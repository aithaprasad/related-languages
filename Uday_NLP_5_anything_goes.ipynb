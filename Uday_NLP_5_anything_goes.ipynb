{
  "cells": [
    {
      "cell_type": "markdown",
      "metadata": {
        "id": "view-in-github",
        "colab_type": "text"
      },
      "source": [
        "<a href=\"https://colab.research.google.com/github/aithaprasad/related-languages/blob/main/Uday_NLP_5_anything_goes.ipynb\" target=\"_parent\"><img src=\"https://colab.research.google.com/assets/colab-badge.svg\" alt=\"Open In Colab\"/></a>"
      ]
    },
    {
      "cell_type": "code",
      "execution_count": null,
      "metadata": {
        "id": "iKScFoFaMbkM"
      },
      "outputs": [],
      "source": [
        "import pandas as pd\n",
        "import numpy as np"
      ]
    },
    {
      "cell_type": "code",
      "execution_count": null,
      "metadata": {
        "id": "R6Tjuq4tNVsq"
      },
      "outputs": [],
      "source": [
        "train_source = open('train-source.txt', 'r')"
      ]
    },
    {
      "cell_type": "code",
      "execution_count": null,
      "metadata": {
        "id": "ZtPhKasQOsEH"
      },
      "outputs": [],
      "source": [
        "train_source_sentences = []\n",
        "temp = []\n",
        "for line in train_source:\n",
        "  token = line.rstrip(\"\\n\")\n",
        "  if token == '<s>': temp = []\n",
        "  elif token == '</s>': train_source_sentences.append(temp)\n",
        "  else: temp.append(line.split('\\n')[0])"
      ]
    },
    {
      "cell_type": "code",
      "execution_count": null,
      "metadata": {
        "id": "ptEap_QAQ02g"
      },
      "outputs": [],
      "source": [
        "train_target = open('train-target.txt', 'r')"
      ]
    },
    {
      "cell_type": "code",
      "execution_count": null,
      "metadata": {
        "id": "vHoWaGDYQZRp"
      },
      "outputs": [],
      "source": [
        "train_target_sentences = []\n",
        "temp = []\n",
        "for line in train_target:\n",
        "  token = line.rstrip(\"\\n\")\n",
        "  if token == '<s>': temp = []\n",
        "  elif token == '</s>': train_target_sentences.append(temp)\n",
        "  else: temp.append(line.split('\\n')[0])\n",
        "temp = []"
      ]
    },
    {
      "cell_type": "code",
      "execution_count": null,
      "metadata": {
        "colab": {
          "base_uri": "https://localhost:8080/"
        },
        "id": "0eOClxkePQYE",
        "outputId": "d8af580a-6717-431a-db2b-c438abe25954"
      },
      "outputs": [
        {
          "data": {
            "text/plain": [
              "True"
            ]
          },
          "execution_count": 6,
          "metadata": {},
          "output_type": "execute_result"
        }
      ],
      "source": [
        "len(train_source_sentences) == len(train_target_sentences) "
      ]
    },
    {
      "cell_type": "code",
      "execution_count": null,
      "metadata": {
        "id": "t9G120xuRQlm"
      },
      "outputs": [],
      "source": [
        "from keras.preprocessing.text import Tokenizer\n",
        "def tokenization(lines):\n",
        "  tokenizer = Tokenizer()\n",
        "  tokenizer.fit_on_texts(lines)\n",
        "  return tokenizer"
      ]
    },
    {
      "cell_type": "code",
      "execution_count": null,
      "metadata": {
        "id": "YOFctioPaFpk"
      },
      "outputs": [],
      "source": [
        "source_tokenizer = tokenization(train_source_sentences)\n",
        "source_vocab_size = len(source_tokenizer.word_index) + 1"
      ]
    },
    {
      "cell_type": "code",
      "execution_count": null,
      "metadata": {
        "colab": {
          "base_uri": "https://localhost:8080/"
        },
        "id": "8vNKqt1qbk9A",
        "outputId": "ed20ac7a-4b06-48a0-ac04-51310eff0c35"
      },
      "outputs": [
        {
          "name": "stdout",
          "output_type": "stream",
          "text": [
            "35761\n",
            "9410\n"
          ]
        }
      ],
      "source": [
        "mini, maxi = 0, 0\n",
        "for sent in train_source_sentences:\n",
        "  sizes = len(sent)\n",
        "  if len(sent) <= 25: mini += 1\n",
        "  else: maxi += 1\n",
        "print(mini)\n",
        "print(maxi)"
      ]
    },
    {
      "cell_type": "code",
      "execution_count": null,
      "metadata": {
        "colab": {
          "base_uri": "https://localhost:8080/"
        },
        "id": "xGCaOzWyauIL",
        "outputId": "b1fa4a31-e784-4555-8eb1-8056533176ee"
      },
      "outputs": [
        {
          "name": "stdout",
          "output_type": "stream",
          "text": [
            "Source Vocabulary Size: 31038\n"
          ]
        }
      ],
      "source": [
        "source_max_length = 25\n",
        "print('Source Vocabulary Size: %d' % source_vocab_size)"
      ]
    },
    {
      "cell_type": "code",
      "execution_count": null,
      "metadata": {
        "colab": {
          "base_uri": "https://localhost:8080/"
        },
        "id": "hjR34kkyaxFQ",
        "outputId": "4614e0b5-59b3-4370-993e-dbf06d408b84"
      },
      "outputs": [
        {
          "name": "stdout",
          "output_type": "stream",
          "text": [
            "Target Vocabulary Size: 25738\n"
          ]
        }
      ],
      "source": [
        "target_tokenizer = tokenization(train_target_sentences)\n",
        "target_vocab_size = len(target_tokenizer.word_index) + 1\n",
        "target_max_length = 25\n",
        "print('Target Vocabulary Size: %d' % target_vocab_size)"
      ]
    },
    {
      "cell_type": "code",
      "execution_count": null,
      "metadata": {
        "id": "TVbVJn82dIk0"
      },
      "outputs": [],
      "source": [
        "from keras_preprocessing.sequence import pad_sequences\n",
        "def encode_sequences(tokenizer, length, lines):\n",
        "    # integer encode sequences\n",
        "    seq = tokenizer.texts_to_sequences(lines)\n",
        "    # pad sequences with 0 values\n",
        "    seq = pad_sequences(seq, maxlen=length, padding='post')\n",
        "    return seq"
      ]
    },
    {
      "cell_type": "code",
      "execution_count": null,
      "metadata": {
        "id": "0uvVunR2dc9p"
      },
      "outputs": [],
      "source": [
        "from sklearn.model_selection import train_test_split\n",
        "\n",
        "# split data into train and test set\n",
        "source_train, source_test = train_test_split(train_source_sentences, test_size=0.01, random_state = 42)\n",
        "target_train, target_test = train_test_split(train_target_sentences, test_size=0.01, random_state = 42)"
      ]
    },
    {
      "cell_type": "code",
      "execution_count": null,
      "metadata": {
        "id": "X7qWtCZ2eUky"
      },
      "outputs": [],
      "source": [
        "# prepare training data\n",
        "trainX = encode_sequences(source_tokenizer, source_max_length, source_train)\n",
        "trainY = encode_sequences(target_tokenizer, target_max_length, target_train)"
      ]
    },
    {
      "cell_type": "code",
      "execution_count": null,
      "metadata": {
        "id": "CUjYxx_eEUBb"
      },
      "outputs": [],
      "source": [
        "# prepare validation data\n",
        "testX = encode_sequences(source_tokenizer, source_max_length, source_test)\n",
        "testY = encode_sequences(target_tokenizer, target_max_length, target_test)"
      ]
    },
    {
      "cell_type": "markdown",
      "source": [
        "https://www.analyticsvidhya.com/blog/2019/01/neural-machine-translation-keras/\n",
        "\n",
        "Utilized the model from here."
      ],
      "metadata": {
        "id": "yvgRXNquO1tC"
      }
    },
    {
      "cell_type": "code",
      "execution_count": null,
      "metadata": {
        "id": "hUXul1YIfQLq"
      },
      "outputs": [],
      "source": [
        "from keras.models import Sequential\n",
        "from keras.layers import Dense, LSTM, Embedding, RepeatVector\n",
        "# build NMT model\n",
        "def define_model(in_vocab,out_vocab, in_timesteps,out_timesteps,units):\n",
        "    model = Sequential()\n",
        "    model.add(Embedding(in_vocab, units, input_length=in_timesteps, mask_zero=True))\n",
        "    model.add(LSTM(units))\n",
        "    model.add(RepeatVector(out_timesteps))\n",
        "    model.add(LSTM(units, return_sequences=True))\n",
        "    model.add(Dense(out_vocab, activation='softmax'))\n",
        "    return model"
      ]
    },
    {
      "cell_type": "code",
      "execution_count": null,
      "metadata": {
        "id": "WkVXFx2gftzr"
      },
      "outputs": [],
      "source": [
        "model = define_model(source_vocab_size, target_vocab_size, source_max_length, target_max_length, 128)"
      ]
    },
    {
      "cell_type": "code",
      "execution_count": null,
      "metadata": {
        "colab": {
          "base_uri": "https://localhost:8080/"
        },
        "id": "MqQxoWMnf5FB",
        "outputId": "5cb3d3d6-04c4-4810-f2e4-4820750e7e11"
      },
      "outputs": [
        {
          "name": "stderr",
          "output_type": "stream",
          "text": [
            "/usr/local/lib/python3.7/dist-packages/keras/optimizers/optimizer_v2/rmsprop.py:135: UserWarning: The `lr` argument is deprecated, use `learning_rate` instead.\n",
            "  super(RMSprop, self).__init__(name, **kwargs)\n"
          ]
        }
      ],
      "source": [
        "from keras import optimizers\n",
        "rms = optimizers.RMSprop(lr=0.001)\n",
        "model.compile(optimizer=rms, loss='sparse_categorical_crossentropy')"
      ]
    },
    {
      "cell_type": "code",
      "execution_count": null,
      "metadata": {
        "colab": {
          "background_save": true,
          "base_uri": "https://localhost:8080/"
        },
        "id": "r-ZTm8ltgBTy",
        "outputId": "d00aaf9d-cdb2-4547-ff26-38b9b3a2c9ef"
      },
      "outputs": [
        {
          "name": "stdout",
          "output_type": "stream",
          "text": [
            "559/559 [==============================] - 609s 1s/step - loss: 4.7677 - val_loss: 4.2358\n"
          ]
        }
      ],
      "source": [
        "history = model.fit(trainX, trainY.reshape(trainY.shape[0], trainY.shape[1], 1),\n",
        "                    epochs=1, batch_size=16, validation_split = 0.2, \n",
        "                    verbose=1)"
      ]
    },
    {
      "cell_type": "code",
      "execution_count": null,
      "metadata": {
        "id": "IoF1oZjbysHF"
      },
      "outputs": [],
      "source": [
        "model.save('lstm_bs_16_lr_0.001.h5')"
      ]
    },
    {
      "cell_type": "code",
      "execution_count": null,
      "metadata": {
        "id": "oyeYUt8n2_pU"
      },
      "outputs": [],
      "source": [
        "#model.save('lstm_bs_512_lr_0.1.h5')"
      ]
    },
    {
      "cell_type": "code",
      "execution_count": null,
      "metadata": {
        "id": "I5-yWm__Dstv"
      },
      "outputs": [],
      "source": [
        "from tensorflow import keras\n",
        "#loaded_model = keras.models.load_model('lstm_bs_512_lr_0.1.h5')\n",
        "loaded_model = keras.models.load_model('lstm_bs_64_lr_0.001.h5')"
      ]
    },
    {
      "cell_type": "code",
      "execution_count": null,
      "metadata": {
        "colab": {
          "base_uri": "https://localhost:8080/"
        },
        "id": "OKgGlK4zgfTG",
        "outputId": "bc989e6e-0913-454a-cd72-f85a8a8c653d"
      },
      "outputs": [
        {
          "name": "stdout",
          "output_type": "stream",
          "text": [
            "15/15 [==============================] - 2s 10ms/step\n"
          ]
        }
      ],
      "source": [
        "preds = model.predict(testX.reshape((testX.shape[0],testX.shape[1])))"
      ]
    },
    {
      "cell_type": "code",
      "execution_count": null,
      "metadata": {
        "id": "a2RO9ZU-uvNe"
      },
      "outputs": [],
      "source": [
        "#predict_x = model.predict(X_test) \n",
        "preds=np.argmax(preds,axis=1)"
      ]
    },
    {
      "cell_type": "code",
      "execution_count": null,
      "metadata": {
        "id": "Gq0qRXanqWiR"
      },
      "outputs": [],
      "source": [
        "#single_pred = loaded_model.predict(testX.reshape((testX.shape[0],testX.shape[1])))"
      ]
    },
    {
      "cell_type": "code",
      "execution_count": null,
      "metadata": {
        "id": "jS2SOmbXuGpS"
      },
      "outputs": [],
      "source": [
        "rev_map = dict()\n",
        "for word, index in target_tokenizer.word_index.items():\n",
        "  rev_map[index] = word\n",
        "def get_own_word(n):\n",
        "  if n not in rev_map: return None\n",
        "  return rev_map[index]"
      ]
    },
    {
      "cell_type": "code",
      "execution_count": null,
      "metadata": {
        "colab": {
          "base_uri": "https://localhost:8080/"
        },
        "id": "ISADwNXmta3C",
        "outputId": "e1807c4b-ab1a-40ef-cba8-988387c39dae"
      },
      "outputs": [
        {
          "data": {
            "text/plain": [
              "25738"
            ]
          },
          "execution_count": 24,
          "metadata": {},
          "output_type": "execute_result"
        }
      ],
      "source": [
        "len(preds[0])"
      ]
    },
    {
      "cell_type": "code",
      "execution_count": null,
      "metadata": {
        "id": "GZRwqdNqsC-u"
      },
      "outputs": [],
      "source": [
        "preds_text = []\n",
        "for i in preds:\n",
        "       temp = []\n",
        "       for j in range(len(i)):\n",
        "            t = get_own_word(i[j])#, target_tokenizer)\n",
        "            if j > 0:\n",
        "                if (t == get_own_word(i[j-1])) or (t == None): #, target_tokenizer)\n",
        "                     temp.append('')\n",
        "                else:\n",
        "                     temp.append(t)\n",
        "            else:\n",
        "                   if(t == None):\n",
        "                          temp.append('')\n",
        "                   else:\n",
        "                          temp.append(t) \n",
        "\n",
        "       preds_text.append(' '.join(temp))"
      ]
    },
    {
      "cell_type": "code",
      "execution_count": null,
      "metadata": {
        "id": "OysIwFfDvcSm"
      },
      "outputs": [],
      "source": [
        "pred_df = pd.DataFrame({'actual' : target_test, 'predicted' : preds_text})"
      ]
    },
    {
      "cell_type": "code",
      "execution_count": null,
      "metadata": {
        "colab": {
          "base_uri": "https://localhost:8080/",
          "height": 206
        },
        "id": "8dcgYlJ7wEX5",
        "outputId": "37773a66-4160-48d8-b15c-bceb2e67d27b"
      },
      "outputs": [
        {
          "data": {
            "text/html": [
              "\n",
              "  <div id=\"df-adfbf503-a746-4413-b7ac-e2ff6f47e5a7\">\n",
              "    <div class=\"colab-df-container\">\n",
              "      <div>\n",
              "<style scoped>\n",
              "    .dataframe tbody tr th:only-of-type {\n",
              "        vertical-align: middle;\n",
              "    }\n",
              "\n",
              "    .dataframe tbody tr th {\n",
              "        vertical-align: top;\n",
              "    }\n",
              "\n",
              "    .dataframe thead th {\n",
              "        text-align: right;\n",
              "    }\n",
              "</style>\n",
              "<table border=\"1\" class=\"dataframe\">\n",
              "  <thead>\n",
              "    <tr style=\"text-align: right;\">\n",
              "      <th></th>\n",
              "      <th>actual</th>\n",
              "      <th>predicted</th>\n",
              "    </tr>\n",
              "  </thead>\n",
              "  <tbody>\n",
              "    <tr>\n",
              "      <th>388</th>\n",
              "      <td>[Rinne, Sean, Ó, Fríl, gáire, .]</td>\n",
              "      <td>shéamaisín      shéamaisín   shéamaisín     sh...</td>\n",
              "    </tr>\n",
              "    <tr>\n",
              "      <th>325</th>\n",
              "      <td>[Ach, ba, é, an, rud, a, rinne, mé, a, dhul, a...</td>\n",
              "      <td>shéamaisín         shéamaisín     shéamaisín  ...</td>\n",
              "    </tr>\n",
              "    <tr>\n",
              "      <th>394</th>\n",
              "      <td>[Dúirt, sé, go, brónach, agus, go, dúlaí, ,, \"...</td>\n",
              "      <td>shéamaisín      shéamaisín   shéamaisín       ...</td>\n",
              "    </tr>\n",
              "    <tr>\n",
              "      <th>158</th>\n",
              "      <td>[Shuigh, sé, siar, sa, choirnéal, sin, i, ndia...</td>\n",
              "      <td>shéamaisín         shéamaisín     shéamaisín  ...</td>\n",
              "    </tr>\n",
              "    <tr>\n",
              "      <th>155</th>\n",
              "      <td>[Baineann, an, bhuíóg, fúithi, amuigh, ar, an,...</td>\n",
              "      <td>shéamaisín        shéamaisín            shéama...</td>\n",
              "    </tr>\n",
              "  </tbody>\n",
              "</table>\n",
              "</div>\n",
              "      <button class=\"colab-df-convert\" onclick=\"convertToInteractive('df-adfbf503-a746-4413-b7ac-e2ff6f47e5a7')\"\n",
              "              title=\"Convert this dataframe to an interactive table.\"\n",
              "              style=\"display:none;\">\n",
              "        \n",
              "  <svg xmlns=\"http://www.w3.org/2000/svg\" height=\"24px\"viewBox=\"0 0 24 24\"\n",
              "       width=\"24px\">\n",
              "    <path d=\"M0 0h24v24H0V0z\" fill=\"none\"/>\n",
              "    <path d=\"M18.56 5.44l.94 2.06.94-2.06 2.06-.94-2.06-.94-.94-2.06-.94 2.06-2.06.94zm-11 1L8.5 8.5l.94-2.06 2.06-.94-2.06-.94L8.5 2.5l-.94 2.06-2.06.94zm10 10l.94 2.06.94-2.06 2.06-.94-2.06-.94-.94-2.06-.94 2.06-2.06.94z\"/><path d=\"M17.41 7.96l-1.37-1.37c-.4-.4-.92-.59-1.43-.59-.52 0-1.04.2-1.43.59L10.3 9.45l-7.72 7.72c-.78.78-.78 2.05 0 2.83L4 21.41c.39.39.9.59 1.41.59.51 0 1.02-.2 1.41-.59l7.78-7.78 2.81-2.81c.8-.78.8-2.07 0-2.86zM5.41 20L4 18.59l7.72-7.72 1.47 1.35L5.41 20z\"/>\n",
              "  </svg>\n",
              "      </button>\n",
              "      \n",
              "  <style>\n",
              "    .colab-df-container {\n",
              "      display:flex;\n",
              "      flex-wrap:wrap;\n",
              "      gap: 12px;\n",
              "    }\n",
              "\n",
              "    .colab-df-convert {\n",
              "      background-color: #E8F0FE;\n",
              "      border: none;\n",
              "      border-radius: 50%;\n",
              "      cursor: pointer;\n",
              "      display: none;\n",
              "      fill: #1967D2;\n",
              "      height: 32px;\n",
              "      padding: 0 0 0 0;\n",
              "      width: 32px;\n",
              "    }\n",
              "\n",
              "    .colab-df-convert:hover {\n",
              "      background-color: #E2EBFA;\n",
              "      box-shadow: 0px 1px 2px rgba(60, 64, 67, 0.3), 0px 1px 3px 1px rgba(60, 64, 67, 0.15);\n",
              "      fill: #174EA6;\n",
              "    }\n",
              "\n",
              "    [theme=dark] .colab-df-convert {\n",
              "      background-color: #3B4455;\n",
              "      fill: #D2E3FC;\n",
              "    }\n",
              "\n",
              "    [theme=dark] .colab-df-convert:hover {\n",
              "      background-color: #434B5C;\n",
              "      box-shadow: 0px 1px 3px 1px rgba(0, 0, 0, 0.15);\n",
              "      filter: drop-shadow(0px 1px 2px rgba(0, 0, 0, 0.3));\n",
              "      fill: #FFFFFF;\n",
              "    }\n",
              "  </style>\n",
              "\n",
              "      <script>\n",
              "        const buttonEl =\n",
              "          document.querySelector('#df-adfbf503-a746-4413-b7ac-e2ff6f47e5a7 button.colab-df-convert');\n",
              "        buttonEl.style.display =\n",
              "          google.colab.kernel.accessAllowed ? 'block' : 'none';\n",
              "\n",
              "        async function convertToInteractive(key) {\n",
              "          const element = document.querySelector('#df-adfbf503-a746-4413-b7ac-e2ff6f47e5a7');\n",
              "          const dataTable =\n",
              "            await google.colab.kernel.invokeFunction('convertToInteractive',\n",
              "                                                     [key], {});\n",
              "          if (!dataTable) return;\n",
              "\n",
              "          const docLinkHtml = 'Like what you see? Visit the ' +\n",
              "            '<a target=\"_blank\" href=https://colab.research.google.com/notebooks/data_table.ipynb>data table notebook</a>'\n",
              "            + ' to learn more about interactive tables.';\n",
              "          element.innerHTML = '';\n",
              "          dataTable['output_type'] = 'display_data';\n",
              "          await google.colab.output.renderOutput(dataTable, element);\n",
              "          const docLink = document.createElement('div');\n",
              "          docLink.innerHTML = docLinkHtml;\n",
              "          element.appendChild(docLink);\n",
              "        }\n",
              "      </script>\n",
              "    </div>\n",
              "  </div>\n",
              "  "
            ],
            "text/plain": [
              "                                                actual  \\\n",
              "388                   [Rinne, Sean, Ó, Fríl, gáire, .]   \n",
              "325  [Ach, ba, é, an, rud, a, rinne, mé, a, dhul, a...   \n",
              "394  [Dúirt, sé, go, brónach, agus, go, dúlaí, ,, \"...   \n",
              "158  [Shuigh, sé, siar, sa, choirnéal, sin, i, ndia...   \n",
              "155  [Baineann, an, bhuíóg, fúithi, amuigh, ar, an,...   \n",
              "\n",
              "                                             predicted  \n",
              "388  shéamaisín      shéamaisín   shéamaisín     sh...  \n",
              "325  shéamaisín         shéamaisín     shéamaisín  ...  \n",
              "394  shéamaisín      shéamaisín   shéamaisín       ...  \n",
              "158  shéamaisín         shéamaisín     shéamaisín  ...  \n",
              "155  shéamaisín        shéamaisín            shéama...  "
            ]
          },
          "execution_count": 27,
          "metadata": {},
          "output_type": "execute_result"
        }
      ],
      "source": [
        "pred_df.sample(5)"
      ]
    },
    {
      "cell_type": "code",
      "execution_count": null,
      "metadata": {
        "id": "2Vn1cCjE40St"
      },
      "outputs": [],
      "source": []
    }
  ],
  "metadata": {
    "accelerator": "GPU",
    "colab": {
      "collapsed_sections": [],
      "provenance": [],
      "authorship_tag": "ABX9TyPBRrwF2/MsnyCyDldZCjqY",
      "include_colab_link": true
    },
    "gpuClass": "standard",
    "kernelspec": {
      "display_name": "Python 3",
      "name": "python3"
    },
    "language_info": {
      "name": "python"
    }
  },
  "nbformat": 4,
  "nbformat_minor": 0
}