{
  "nbformat": 4,
  "nbformat_minor": 0,
  "metadata": {
    "colab": {
      "provenance": [],
      "collapsed_sections": [],
      "authorship_tag": "ABX9TyMs1SeS32FvEP7BjdrhAE3a",
      "include_colab_link": true
    },
    "kernelspec": {
      "name": "python3",
      "display_name": "Python 3"
    },
    "language_info": {
      "name": "python"
    }
  },
  "cells": [
    {
      "cell_type": "markdown",
      "metadata": {
        "id": "view-in-github",
        "colab_type": "text"
      },
      "source": [
        "<a href=\"https://colab.research.google.com/github/aithaprasad/related-languages/blob/main/Uday_NLP_5_Scratch.ipynb\" target=\"_parent\"><img src=\"https://colab.research.google.com/assets/colab-badge.svg\" alt=\"Open In Colab\"/></a>"
      ]
    },
    {
      "cell_type": "code",
      "execution_count": 1,
      "metadata": {
        "id": "pn-BvGdpfpm3"
      },
      "outputs": [],
      "source": [
        "def get_sentences_from_file(file):\n",
        "  sentences = []\n",
        "  temp = []\n",
        "  data = open(file, 'r')\n",
        "  for line in data:\n",
        "    token = line.rstrip(\"\\n\")\n",
        "    if token == '<s>': temp = []\n",
        "    elif token == '</s>': sentences.append(temp)\n",
        "    else: temp.append(line.split('\\n')[0])\n",
        "  return sentences"
      ]
    },
    {
      "cell_type": "code",
      "source": [
        "train_source = get_sentences_from_file('train-source.txt')\n",
        "train_target = get_sentences_from_file('train-target.txt')"
      ],
      "metadata": {
        "id": "moJtVMhOhSxt"
      },
      "execution_count": 39,
      "outputs": []
    },
    {
      "cell_type": "code",
      "source": [
        "test_source = get_sentences_from_file('test-source.txt')\n",
        "test_target = get_sentences_from_file('test-target.txt')"
      ],
      "metadata": {
        "id": "i2xLNYy0rHLP"
      },
      "execution_count": 36,
      "outputs": []
    },
    {
      "cell_type": "code",
      "source": [
        "len(train_source) == len(train_target)"
      ],
      "metadata": {
        "colab": {
          "base_uri": "https://localhost:8080/"
        },
        "id": "H3vz6kqWhy0h",
        "outputId": "b62b4e8e-91d6-437e-a5a7-ecc2bea10d83"
      },
      "execution_count": 29,
      "outputs": [
        {
          "output_type": "execute_result",
          "data": {
            "text/plain": [
              "True"
            ]
          },
          "metadata": {},
          "execution_count": 29
        }
      ]
    },
    {
      "cell_type": "code",
      "source": [
        "train_source, val_source = train_source[:-5000], train_source[-5000:]\n",
        "train_target, val_target = train_target[:-5000], train_target[-5000:]"
      ],
      "metadata": {
        "id": "0luDsPi-d1h2"
      },
      "execution_count": 28,
      "outputs": []
    },
    {
      "cell_type": "code",
      "source": [
        "def emission_prob(sentences):\n",
        "  emission_probs = dict()\n",
        "  for sentence in sentences:\n",
        "    for word in sentence:\n",
        "      if word not in emission_probs: emission_probs[word] = 1\n",
        "      else: emission_probs[word] += 1\n",
        "  total_sum = sum(list(emission_probs.values()))\n",
        "  for word in emission_probs.keys():\n",
        "    emission_probs[word] /= total_sum\n",
        "  return emission_probs "
      ],
      "metadata": {
        "id": "MxK1P2oSh0rG"
      },
      "execution_count": 2,
      "outputs": []
    },
    {
      "cell_type": "code",
      "source": [
        "train_target_emission_probs = emission_prob(train_target)"
      ],
      "metadata": {
        "id": "UWCrnEj0h96d"
      },
      "execution_count": 40,
      "outputs": []
    },
    {
      "cell_type": "code",
      "source": [
        "len(train_target_emission_probs)"
      ],
      "metadata": {
        "colab": {
          "base_uri": "https://localhost:8080/"
        },
        "id": "jNffXADLibud",
        "outputId": "b1a79270-4176-41b8-8903-cc9f6782e128"
      },
      "execution_count": 41,
      "outputs": [
        {
          "output_type": "execute_result",
          "data": {
            "text/plain": [
              "29116"
            ]
          },
          "metadata": {},
          "execution_count": 41
        }
      ]
    },
    {
      "cell_type": "code",
      "source": [
        "def source_to_target_words_map(source, target):\n",
        "  transmission_counts, transmission_probs = dict(), dict()\n",
        "  for i in range(len(source)):\n",
        "    for j in range(min(len(source[i]), len(target[i]))):\n",
        "      if source[i][j] not in transmission_counts:\n",
        "        transmission_counts[source[i][j]] = {target[i][j] : 1}\n",
        "      elif target[i][j] not in transmission_counts[source[i][j]]:\n",
        "        transmission_counts[source[i][j]][target[i][j]] = 1\n",
        "      else:\n",
        "        transmission_counts[source[i][j]][target[i][j]] += 1\n",
        "  \n",
        "  \n",
        "\n",
        "  for key, data_dict in transmission_counts.items():\n",
        "      transmission_probs[key] = {}\n",
        "      dict_sum = sum(list(data_dict.values()))\n",
        "\n",
        "      for new_key, value in data_dict.items():\n",
        "          transmission_probs[key][new_key] = (transmission_counts[key][new_key] / dict_sum)\n",
        "\n",
        "    \n",
        "  return transmission_probs"
      ],
      "metadata": {
        "id": "rVdgdRC8l27j"
      },
      "execution_count": 18,
      "outputs": []
    },
    {
      "cell_type": "code",
      "source": [
        "transmission_probabilities = source_to_target_words_map(train_source, train_target)"
      ],
      "metadata": {
        "id": "dgl5yScfhnBg"
      },
      "execution_count": 42,
      "outputs": []
    },
    {
      "cell_type": "code",
      "source": [],
      "metadata": {
        "id": "2FKtVLKqlnHr"
      },
      "execution_count": 33,
      "outputs": []
    },
    {
      "cell_type": "code",
      "source": [
        "predicted_sentence = predict(val_source, transmission_probabilities)"
      ],
      "metadata": {
        "id": "IA2YJawnnyna"
      },
      "execution_count": 34,
      "outputs": []
    },
    {
      "cell_type": "code",
      "source": [
        "from nltk.translate.bleu_score import corpus_bleu\n",
        "new_targ = []\n",
        "\n",
        "for row in val_target:\n",
        "    new_targ.append([row])\n",
        "\n",
        "print(corpus_bleu(new_targ, predicted_sentence))"
      ],
      "metadata": {
        "colab": {
          "base_uri": "https://localhost:8080/"
        },
        "id": "I_oGXBHyqVH3",
        "outputId": "1d542f8c-9f71-45fb-939a-caa4d2f3752e"
      },
      "execution_count": 35,
      "outputs": [
        {
          "output_type": "stream",
          "name": "stdout",
          "text": [
            "0.6882449272360074\n"
          ]
        }
      ]
    },
    {
      "cell_type": "code",
      "source": [
        "predicted_test_sentences = predict(test_source, transmission_probabilities)"
      ],
      "metadata": {
        "id": "zaZfJKdJq5NE"
      },
      "execution_count": 43,
      "outputs": []
    },
    {
      "cell_type": "code",
      "source": [
        "new_targ = []\n",
        "\n",
        "for row in test_target:\n",
        "    new_targ.append([row])\n",
        "\n",
        "print(corpus_bleu(new_targ, predicted_test_sentences))"
      ],
      "metadata": {
        "colab": {
          "base_uri": "https://localhost:8080/"
        },
        "id": "jlLvKudirjGH",
        "outputId": "1f88d716-f69d-4343-8434-5be32201bea7"
      },
      "execution_count": 44,
      "outputs": [
        {
          "output_type": "stream",
          "name": "stdout",
          "text": [
            "0.7421058136552283\n"
          ]
        }
      ]
    },
    {
      "cell_type": "code",
      "source": [],
      "metadata": {
        "id": "H1xVogd7rthc"
      },
      "execution_count": null,
      "outputs": []
    }
  ]
}