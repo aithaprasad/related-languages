{
  "nbformat": 4,
  "nbformat_minor": 0,
  "metadata": {
    "colab": {
      "provenance": [],
      "collapsed_sections": [],
      "authorship_tag": "ABX9TyMdxDpX7ulZ6GcBsA6fb/HO",
      "include_colab_link": true
    },
    "kernelspec": {
      "name": "python3",
      "display_name": "Python 3"
    },
    "language_info": {
      "name": "python"
    },
    "accelerator": "TPU",
    "gpuClass": "standard"
  },
  "cells": [
    {
      "cell_type": "markdown",
      "metadata": {
        "id": "view-in-github",
        "colab_type": "text"
      },
      "source": [
        "<a href=\"https://colab.research.google.com/github/aithaprasad/related-languages/blob/main/NLP_closely_related_langs.ipynb\" target=\"_parent\"><img src=\"https://colab.research.google.com/assets/colab-badge.svg\" alt=\"Open In Colab\"/></a>"
      ]
    },
    {
      "cell_type": "code",
      "execution_count": 1,
      "metadata": {
        "id": "iKScFoFaMbkM"
      },
      "outputs": [],
      "source": [
        "import pandas as pd\n",
        "import numpy as np"
      ]
    },
    {
      "cell_type": "code",
      "source": [
        "train_source = open('train-source.txt', 'r')"
      ],
      "metadata": {
        "id": "R6Tjuq4tNVsq"
      },
      "execution_count": 2,
      "outputs": []
    },
    {
      "cell_type": "code",
      "source": [
        "train_source_sentences = []\n",
        "temp = []\n",
        "for line in train_source:\n",
        "  token = line.rstrip(\"\\n\")\n",
        "  if token == '<s>': temp = []\n",
        "  elif token == '</s>': train_source_sentences.append(temp)\n",
        "  else: temp.append(line)"
      ],
      "metadata": {
        "id": "ZtPhKasQOsEH"
      },
      "execution_count": 3,
      "outputs": []
    },
    {
      "cell_type": "code",
      "source": [
        "train_target = open('train-target.txt', 'r')"
      ],
      "metadata": {
        "id": "ptEap_QAQ02g"
      },
      "execution_count": 4,
      "outputs": []
    },
    {
      "cell_type": "code",
      "source": [
        "train_target_sentences = []\n",
        "temp = []\n",
        "for line in train_target:\n",
        "  token = line.rstrip(\"\\n\")\n",
        "  if token == '<s>': temp = []\n",
        "  elif token == '</s>': train_target_sentences.append(temp)\n",
        "  else: temp.append(line)"
      ],
      "metadata": {
        "id": "vHoWaGDYQZRp"
      },
      "execution_count": 5,
      "outputs": []
    },
    {
      "cell_type": "code",
      "source": [
        "len(train_source_sentences) == len(train_target_sentences) "
      ],
      "metadata": {
        "colab": {
          "base_uri": "https://localhost:8080/"
        },
        "id": "0eOClxkePQYE",
        "outputId": "621c6860-1e64-43e0-d334-4fb8d067a744"
      },
      "execution_count": 6,
      "outputs": [
        {
          "output_type": "execute_result",
          "data": {
            "text/plain": [
              "True"
            ]
          },
          "metadata": {},
          "execution_count": 6
        }
      ]
    },
    {
      "cell_type": "code",
      "source": [
        "from keras.preprocessing.text import Tokenizer\n",
        "def tokenization(lines):\n",
        "  tokenizer = Tokenizer()\n",
        "  tokenizer.fit_on_texts(lines)\n",
        "  return tokenizer"
      ],
      "metadata": {
        "id": "t9G120xuRQlm"
      },
      "execution_count": 7,
      "outputs": []
    },
    {
      "cell_type": "code",
      "source": [
        "source_tokenizer = tokenization(train_source_sentences)\n",
        "source_vocab_size = len(source_tokenizer.word_index) + 1"
      ],
      "metadata": {
        "id": "YOFctioPaFpk"
      },
      "execution_count": 8,
      "outputs": []
    },
    {
      "cell_type": "code",
      "source": [
        "mini, maxi = 0, 0\n",
        "for sent in train_source_sentences:\n",
        "  sizes = len(sent)\n",
        "  if len(sent) <= 25: mini += 1\n",
        "  else: maxi += 1\n",
        "print(mini)\n",
        "print(maxi)"
      ],
      "metadata": {
        "colab": {
          "base_uri": "https://localhost:8080/"
        },
        "id": "8vNKqt1qbk9A",
        "outputId": "11a2de0e-201a-45b0-c284-18cdcbb09a34"
      },
      "execution_count": 9,
      "outputs": [
        {
          "output_type": "stream",
          "name": "stdout",
          "text": [
            "35761\n",
            "9410\n"
          ]
        }
      ]
    },
    {
      "cell_type": "code",
      "source": [
        "source_max_length = 25\n",
        "print('Source Vocabulary Size: %d' % source_vocab_size)"
      ],
      "metadata": {
        "colab": {
          "base_uri": "https://localhost:8080/"
        },
        "id": "xGCaOzWyauIL",
        "outputId": "b222d4af-ce92-4773-f450-0c9f17a90ea9"
      },
      "execution_count": 10,
      "outputs": [
        {
          "output_type": "stream",
          "name": "stdout",
          "text": [
            "Source Vocabulary Size: 31038\n"
          ]
        }
      ]
    },
    {
      "cell_type": "code",
      "source": [
        "target_tokenizer = tokenization(train_target_sentences)\n",
        "target_vocab_size = len(target_tokenizer.word_index) + 1\n",
        "target_max_length = 25\n",
        "print('Target Vocabulary Size: %d' % target_vocab_size)"
      ],
      "metadata": {
        "colab": {
          "base_uri": "https://localhost:8080/"
        },
        "id": "hjR34kkyaxFQ",
        "outputId": "dd486a26-54ad-454f-b176-9cbd0cf03db1"
      },
      "execution_count": 11,
      "outputs": [
        {
          "output_type": "stream",
          "name": "stdout",
          "text": [
            "Target Vocabulary Size: 25738\n"
          ]
        }
      ]
    },
    {
      "cell_type": "code",
      "source": [
        "from keras_preprocessing.sequence import pad_sequences\n",
        "def encode_sequences(tokenizer, length, lines):\n",
        "    # integer encode sequences\n",
        "    seq = tokenizer.texts_to_sequences(lines)\n",
        "    # pad sequences with 0 values\n",
        "    seq = pad_sequences(seq, maxlen=length, padding='post')\n",
        "    return seq"
      ],
      "metadata": {
        "id": "TVbVJn82dIk0"
      },
      "execution_count": 12,
      "outputs": []
    },
    {
      "cell_type": "code",
      "source": [
        "from sklearn.model_selection import train_test_split\n",
        "\n",
        "# split data into train and test set\n",
        "source_train, source_test = train_test_split(train_source_sentences, test_size=0.2, random_state = 42)\n",
        "target_train, target_test = train_test_split(train_target_sentences, test_size=0.2, random_state = 42)"
      ],
      "metadata": {
        "id": "0uvVunR2dc9p"
      },
      "execution_count": 13,
      "outputs": []
    },
    {
      "cell_type": "code",
      "source": [
        "# prepare training data\n",
        "trainX = encode_sequences(source_tokenizer, source_max_length, source_train)\n",
        "trainY = encode_sequences(target_tokenizer, target_max_length, target_train)\n",
        "\n",
        "# prepare validation data\n",
        "testX = encode_sequences(source_tokenizer, source_max_length, source_test)\n",
        "testY = encode_sequences(target_tokenizer, target_max_length, target_test)"
      ],
      "metadata": {
        "id": "X7qWtCZ2eUky"
      },
      "execution_count": 14,
      "outputs": []
    },
    {
      "cell_type": "code",
      "source": [
        "from keras.models import Sequential\n",
        "from keras.layers import Dense, LSTM, Embedding, RepeatVector\n",
        "# build NMT model\n",
        "def define_model(in_vocab,out_vocab, in_timesteps,out_timesteps,units):\n",
        "    model = Sequential()\n",
        "    model.add(Embedding(in_vocab, units, input_length=in_timesteps, mask_zero=True))\n",
        "    model.add(LSTM(units))\n",
        "    model.add(RepeatVector(out_timesteps))\n",
        "    model.add(LSTM(units, return_sequences=True))\n",
        "    model.add(Dense(out_vocab, activation='softmax'))\n",
        "    return model"
      ],
      "metadata": {
        "id": "hUXul1YIfQLq"
      },
      "execution_count": 15,
      "outputs": []
    },
    {
      "cell_type": "code",
      "source": [
        "model = define_model(source_vocab_size, target_vocab_size, source_max_length, target_max_length, 512)"
      ],
      "metadata": {
        "id": "WkVXFx2gftzr"
      },
      "execution_count": 16,
      "outputs": []
    },
    {
      "cell_type": "code",
      "source": [
        "from keras import optimizers\n",
        "rms = optimizers.RMSprop(lr=0.1)\n",
        "model.compile(optimizer=rms, loss='sparse_categorical_crossentropy')"
      ],
      "metadata": {
        "colab": {
          "base_uri": "https://localhost:8080/"
        },
        "id": "MqQxoWMnf5FB",
        "outputId": "968e57ec-7616-4ecd-9e09-452e8115c5d4"
      },
      "execution_count": 17,
      "outputs": [
        {
          "output_type": "stream",
          "name": "stderr",
          "text": [
            "/usr/local/lib/python3.7/dist-packages/keras/optimizers/optimizer_v2/rmsprop.py:135: UserWarning: The `lr` argument is deprecated, use `learning_rate` instead.\n",
            "  super(RMSprop, self).__init__(name, **kwargs)\n"
          ]
        }
      ]
    },
    {
      "cell_type": "code",
      "source": [
        "history = model.fit(trainX, trainY.reshape(trainY.shape[0], trainY.shape[1], 1),\n",
        "                    epochs=2, batch_size=512, validation_split = 0.2, \n",
        "                    verbose=1)"
      ],
      "metadata": {
        "colab": {
          "base_uri": "https://localhost:8080/"
        },
        "id": "r-ZTm8ltgBTy",
        "outputId": "c72e6004-8d10-4de6-e70f-23e97af27323"
      },
      "execution_count": 18,
      "outputs": [
        {
          "output_type": "stream",
          "name": "stdout",
          "text": [
            "Epoch 1/2\n",
            "57/57 [==============================] - 1863s 33s/step - loss: 10.7829 - val_loss: 5.2710\n",
            "Epoch 2/2\n",
            "57/57 [==============================] - 1862s 33s/step - loss: 5.0850 - val_loss: 5.2928\n"
          ]
        }
      ]
    },
    {
      "cell_type": "code",
      "source": [
        "preds = model.predict(testX.reshape((testX.shape[0],testX.shape[1])))"
      ],
      "metadata": {
        "colab": {
          "base_uri": "https://localhost:8080/"
        },
        "id": "OKgGlK4zgfTG",
        "outputId": "07f3023b-f57a-4602-a7c5-2a32ce0f945e"
      },
      "execution_count": null,
      "outputs": [
        {
          "output_type": "stream",
          "name": "stdout",
          "text": [
            "136/283 [=============>................] - ETA: 1:56"
          ]
        }
      ]
    },
    {
      "cell_type": "code",
      "source": [
        "def get_word(n, tokenizer):\n",
        "  for word, index in tokenizer.word_index.items():\n",
        "    if index == n: return word\n",
        "  return None"
      ],
      "metadata": {
        "id": "NDUPOWmv1aSw"
      },
      "execution_count": null,
      "outputs": []
    }
  ]
}